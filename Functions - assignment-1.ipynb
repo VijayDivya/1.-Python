{
 "cells": [
  {
   "cell_type": "code",
   "execution_count": 3,
   "metadata": {},
   "outputs": [
    {
     "name": "stdout",
     "output_type": "stream",
     "text": [
      "Sub-fields in AI are:\n",
      "Machine Learning\n",
      "Neural Networks\n",
      "Vision\n",
      "Robotics\n",
      "Speech Processing\n",
      "Natural Language Processing\n"
     ]
    }
   ],
   "source": [
    "# Create a class and function, and list out the items in the list\n",
    "def sub():\n",
    "    sub=(\"Machine Learning\",\"Neural Networks\",\"Vision\",\"Robotics\",\"Speech Processing\",\"Natural Language Processing\")\n",
    "    print(\"Sub-fields in AI are:\")\n",
    "    for i in sub:\n",
    "        print(i)\n",
    "    return sub\n",
    "sub1=sub()"
   ]
  },
  {
   "cell_type": "code",
   "execution_count": 4,
   "metadata": {},
   "outputs": [
    {
     "name": "stdout",
     "output_type": "stream",
     "text": [
      "Enter a number:52452\n",
      "52452  is an EVEN number\n"
     ]
    }
   ],
   "source": [
    "# Create a function that checks whether the given number is Odd or Even\n",
    "def oddeven():\n",
    "    num=int(input(\"Enter a number:\"))\n",
    "    if(num%2==0):\n",
    "            print(num,\" is an EVEN number\")\n",
    "            oe=num,\"is an EVEN number\"\n",
    "    else:\n",
    "            print(num, \"is an ODD number\")\n",
    "            oe=num, \"is an ODD number\"\n",
    "    return oe\n",
    "oddeven1=oddeven()\n"
   ]
  },
  {
   "cell_type": "code",
   "execution_count": 8,
   "metadata": {},
   "outputs": [
    {
     "name": "stdout",
     "output_type": "stream",
     "text": [
      "Your Gender:Male\n",
      "Your Age:20\n",
      "NOT ELIGIBLE\n"
     ]
    }
   ],
   "source": [
    "# Create a function that tells elegibility of marriage for male and female according to their age limit \n",
    "#like 21 for male and 18 for female\n",
    "\n",
    "def ElegiblityForMarriage():\n",
    "    Gender=str(input(\"Your Gender:\"))\n",
    "    Age=int(input(\"Your Age:\"))\n",
    "    if(Gender=='Male')and(Age>=21):\n",
    "        print(\"ELIGIBLE\")\n",
    "        marriage=\"ELIGIBLE\"\n",
    "    elif(Gender=='Female')and(Age>=18):\n",
    "        print(\"ELIGIBLE\")\n",
    "        marriage=\"ELIGIBLE\"\n",
    "    else:\n",
    "        print(\"NOT ELIGIBLE\")\n",
    "        marriage=\"NOT ELIGIBLE\"\n",
    "    return marriage\n",
    "Elegibility=ElegiblityForMarriage()"
   ]
  },
  {
   "cell_type": "code",
   "execution_count": 1,
   "metadata": {
    "scrolled": false
   },
   "outputs": [
    {
     "name": "stdout",
     "output_type": "stream",
     "text": [
      "Subject1=98\n",
      "Subject2=87\n",
      "Subject3=95\n",
      "Subject4=95\n",
      "Subject5=93\n",
      "Total= 468\n",
      "Percentage= 93.60000000000001\n"
     ]
    }
   ],
   "source": [
    "# calculate the percentage of your 10th mark\n",
    "\n",
    "sub1=int(input(\"Subject1=\"))\n",
    "sub2=int(input(\"Subject2=\"))\n",
    "sub3=int(input(\"Subject3=\"))\n",
    "sub4=int(input(\"Subject4=\"))\n",
    "sub5=int(input(\"Subject5=\"))\n",
    "total=sub1+sub2+sub3+sub4+sub5\n",
    "percentage=float((total/500)*100)\n",
    "print(\"Total=\",total)\n",
    "print(\"Percentage=\",percentage)"
   ]
  },
  {
   "cell_type": "code",
   "execution_count": 3,
   "metadata": {},
   "outputs": [
    {
     "name": "stdout",
     "output_type": "stream",
     "text": [
      "Height:32\n",
      "Breadth:34\n",
      "Area formula:(Height*Breadth)/2\n",
      "Area of Triangle: 544.0\n",
      "Height1:2\n",
      "Height2:4\n",
      "Breadth:4\n",
      "Perimeter formula: Height1+Height2+Breadth\n",
      "Perimeter of Triangle: 10\n"
     ]
    }
   ],
   "source": [
    "#print area and perimeter of triangle using class and functions\n",
    "\n",
    "def areaandperimeter():\n",
    "    h=int(input(\"Height:\"))\n",
    "    b=int(input(\"Breadth:\"))\n",
    "    area=(h*b)/2\n",
    "    print(\"Area formula:(Height*Breadth)/2\")\n",
    "    print(\"Area of Triangle:\",area)\n",
    "    h1=int(input(\"Height1:\"))\n",
    "    h2=int(input(\"Height2:\"))\n",
    "    b1=int(input(\"Breadth:\"))\n",
    "    peri=h1+h2+b1\n",
    "    print(\"Perimeter formula: Height1+Height2+Breadth\")\n",
    "    print(\"Perimeter of Triangle:\" ,peri)\n",
    "    return(area,peri)\n",
    "areaandperimeter1=areaandperimeter()"
   ]
  },
  {
   "cell_type": "code",
   "execution_count": null,
   "metadata": {},
   "outputs": [],
   "source": []
  }
 ],
 "metadata": {
  "kernelspec": {
   "display_name": "Python 3",
   "language": "python",
   "name": "python3"
  },
  "language_info": {
   "codemirror_mode": {
    "name": "ipython",
    "version": 3
   },
   "file_extension": ".py",
   "mimetype": "text/x-python",
   "name": "python",
   "nbconvert_exporter": "python",
   "pygments_lexer": "ipython3",
   "version": "3.7.4"
  }
 },
 "nbformat": 4,
 "nbformat_minor": 2
}
